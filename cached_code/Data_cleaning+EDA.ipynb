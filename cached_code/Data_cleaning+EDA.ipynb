{
 "cells": [
  {
   "cell_type": "code",
   "execution_count": 58,
   "metadata": {},
   "outputs": [
    {
     "name": "stdout",
     "output_type": "stream",
     "text": [
      "['UnderArmour.csv', 'Adidas.csv', '.DS_Store', 'Reebok.csv', 'ToryBurch.csv', 'ClubMonaco.csv', 'KateSpade.csv', 'Nike.csv', 'NewBalance.csv']\n"
     ]
    }
   ],
   "source": [
    "import os\n",
    "import re\n",
    "import numpy as np\n",
    "import pandas as pd\n",
    "import seaborn as sns\n",
    "from datetime import datetime, timedelta\n",
    "import matplotlib.pyplot as plt\n",
    "from collections import Counter\n",
    "\n",
    "%matplotlib inline\n",
    "\n",
    "print(os.listdir(\"Datasets\"))"
   ]
  },
  {
   "cell_type": "markdown",
   "metadata": {},
   "source": [
    "## Import the datasets"
   ]
  },
  {
   "cell_type": "code",
   "execution_count": 59,
   "metadata": {},
   "outputs": [],
   "source": [
    "Nike = pd.read_csv(\"Datasets/Nike.csv\")\n",
    "Adidas = pd.read_csv(\"Datasets/Adidas.csv\")\n",
    "UnderArmour = pd.read_csv(\"Datasets/UnderArmour.csv\")\n",
    "Reebok = pd.read_csv(\"Datasets/Reebok.csv\")\n",
    "NewBalance = pd.read_csv(\"Datasets/NewBalance.csv\")\n",
    "ClubMonaco = pd.read_csv(\"Datasets/ClubMonaco.csv\")\n",
    "KateSpade = pd.read_csv(\"Datasets/KateSpade.csv\")\n",
    "#MichaelKors = pd.read_csv(\"../Insight_DS/Datasets/MichaelKors.csv\")\n",
    "ToryBurch = pd.read_csv(\"Datasets/ToryBurch.csv\")"
   ]
  },
  {
   "cell_type": "code",
   "execution_count": 60,
   "metadata": {},
   "outputs": [],
   "source": [
    "All = [Nike, Adidas, UnderArmour, Reebok, NewBalance, ClubMonaco, KateSpade, ToryBurch]"
   ]
  },
  {
   "cell_type": "markdown",
   "metadata": {},
   "source": [
    "## Data Cleaning:"
   ]
  },
  {
   "cell_type": "markdown",
   "metadata": {},
   "source": [
    "### 1. Separate the real *deals* from the *ads*\n",
    "Observation: Real deals or special offers typiclly have end dates.  \n",
    "Action: Separate them by checking whether a \"deal ends\" date exists."
   ]
  },
  {
   "cell_type": "code",
   "execution_count": 61,
   "metadata": {},
   "outputs": [],
   "source": [
    "def end_date_filter(df):\n",
    "    df_w_end_date = df[df['End_date'].isnull() == False]\n",
    "    df_w_o_end_date = df[df['End_date'].isnull() == True]\n",
    "    return df_w_end_date"
   ]
  },
  {
   "cell_type": "code",
   "execution_count": 62,
   "metadata": {},
   "outputs": [],
   "source": [
    "Nike = end_date_filter(Nike)\n",
    "Adidas = end_date_filter(Adidas)\n",
    "UnderArmour = end_date_filter(UnderArmour)\n",
    "Reebok = end_date_filter(Reebok)\n",
    "NewBalance = end_date_filter(NewBalance)\n",
    "ClubMonaco = end_date_filter(ClubMonaco)\n",
    "KateSpade = end_date_filter(KateSpade)\n",
    "ToryBurch = end_date_filter(ToryBurch)"
   ]
  },
  {
   "cell_type": "code",
   "execution_count": 63,
   "metadata": {},
   "outputs": [],
   "source": [
    "All_deals = [Nike, Adidas, UnderArmour, Reebok, NewBalance, ClubMonaco, KateSpade, ToryBurch]"
   ]
  },
  {
   "cell_type": "markdown",
   "metadata": {},
   "source": [
    "### 2. Convert time features into `datetime` format"
   ]
  },
  {
   "cell_type": "code",
   "execution_count": 64,
   "metadata": {},
   "outputs": [],
   "source": [
    "def str2datetime(df, cols):\n",
    "    for col in cols:\n",
    "        #if col == 'Posted_date':\n",
    "        #    temp= pd.to_datetime(df[col],format='%m-%d-%Y')# - timedelta(1)\n",
    "        try:\n",
    "            temp= pd.to_datetime(df[col],format='%m/%d/%Y')\n",
    "        except:\n",
    "            temp= pd.to_datetime(df[col],format='%Y-%m-%d')\n",
    "        df.loc[:,col] = temp\n",
    "    return df"
   ]
  },
  {
   "cell_type": "code",
   "execution_count": 65,
   "metadata": {},
   "outputs": [],
   "source": [
    "for deal in All_deals:\n",
    "    deal = str2datetime(deal, [\"Posted_date\", \"End_date\"])"
   ]
  },
  {
   "cell_type": "markdown",
   "metadata": {},
   "source": [
    "### 3. Combine duplicates\n",
    "\n",
    "Observation: Deal posts with the same \"Deal ends\" date tend to be duplicate posts for the same deal.  \n",
    "Action: Group by the `End_date`."
   ]
  },
  {
   "cell_type": "code",
   "execution_count": 66,
   "metadata": {},
   "outputs": [],
   "source": [
    "agg_func = {\n",
    "            'Title': lambda a: \" / \".join(a),\n",
    "            'Description': lambda a: \" / \".join(a), \n",
    "            'Posted_date': 'min',\n",
    "            'Comments_count': 'sum',\n",
    "            'Bookmarks_count': 'sum',\n",
    "            'Shares_count': 'sum'\n",
    "            }"
   ]
  },
  {
   "cell_type": "code",
   "execution_count": 67,
   "metadata": {},
   "outputs": [],
   "source": [
    "All_deals_agg = []\n",
    "for deal in All_deals:\n",
    "    All_deals_agg.append(deal.groupby(\"End_date\", as_index=False).agg(agg_func))"
   ]
  },
  {
   "cell_type": "markdown",
   "metadata": {},
   "source": [
    "### 3. Add more time related features"
   ]
  },
  {
   "cell_type": "code",
   "execution_count": 68,
   "metadata": {},
   "outputs": [],
   "source": [
    "def add_time_features(df, prefix='Posted'):\n",
    "    \n",
    "    # The string prefix must be 'Posted' or 'End'.\n",
    "    # More features can be added, eg. day of week, week of month and holiday features.\n",
    "    \n",
    "    df[prefix+'_year'] = df[prefix+'_date'].dt.year\n",
    "    df[prefix+'_month'] = df[prefix+'_date'].dt.month\n",
    "    df[prefix+'_month_year'] = df[prefix+'_date'].dt.to_period('M')\n",
    "    return df"
   ]
  },
  {
   "cell_type": "code",
   "execution_count": 69,
   "metadata": {},
   "outputs": [],
   "source": [
    "for df in All_deals_agg:\n",
    "    for prefix in ['Posted', 'End']:\n",
    "        df = add_time_features(df, prefix)"
   ]
  },
  {
   "cell_type": "code",
   "execution_count": 104,
   "metadata": {
    "scrolled": true
   },
   "outputs": [],
   "source": [
    "for deal in All_deals_agg:\n",
    "    for i in range(deal.shape[0]):\n",
    "        if pd.to_datetime(deal['End_date'].values[i]) + timedelta(1) == pd.to_datetime(deal['Posted_date'].values[i]):\n",
    "            # This corrects the mislabeling of the Posted_date due to the comparision with datetime.today() \n",
    "            deal.loc[deal.index[i],'Posted_date'] = pd.to_datetime(deal.iloc[i]['End_date'])\n",
    "        if deal['End_date'].values[i] < deal['Posted_date'].values[i]:\n",
    "            #print(i)\n",
    "            # This corrects the mislabeling the year of the End_date when scraping the website\n",
    "            deal.iloc[i,0] = pd.to_datetime(deal.iloc[i]['End_date']) + timedelta(365)"
   ]
  },
  {
   "cell_type": "code",
   "execution_count": 74,
   "metadata": {},
   "outputs": [],
   "source": [
    "Nike_deals = All_deals_agg[0]\n",
    "Adidas_deals = All_deals_agg[1]\n",
    "UnderArmour_deals = All_deals_agg[2]\n",
    "Reebok_deals =All_deals_agg[3]\n",
    "NewBalance_deals = All_deals_agg[4]\n",
    "ClubMonaco_deals = All_deals_agg[5]\n",
    "KateSpade_deals = All_deals_agg[6]\n",
    "#MichaelKors = All_agg2[9]\n",
    "ToryBurch_deals = All_deals_agg[7]"
   ]
  },
  {
   "cell_type": "markdown",
   "metadata": {},
   "source": [
    "## Exploratory Data Analysis:"
   ]
  },
  {
   "cell_type": "code",
   "execution_count": 77,
   "metadata": {
    "scrolled": true
   },
   "outputs": [
    {
     "data": {
      "text/html": [
       "<div>\n",
       "<style scoped>\n",
       "    .dataframe tbody tr th:only-of-type {\n",
       "        vertical-align: middle;\n",
       "    }\n",
       "\n",
       "    .dataframe tbody tr th {\n",
       "        vertical-align: top;\n",
       "    }\n",
       "\n",
       "    .dataframe thead th {\n",
       "        text-align: right;\n",
       "    }\n",
       "</style>\n",
       "<table border=\"1\" class=\"dataframe\">\n",
       "  <thead>\n",
       "    <tr style=\"text-align: right;\">\n",
       "      <th></th>\n",
       "      <th>End_date</th>\n",
       "      <th>Title</th>\n",
       "      <th>Description</th>\n",
       "      <th>Posted_date</th>\n",
       "      <th>Comments_count</th>\n",
       "      <th>Bookmarks_count</th>\n",
       "      <th>Shares_count</th>\n",
       "      <th>Posted_year</th>\n",
       "      <th>Posted_month</th>\n",
       "      <th>Posted_month_year</th>\n",
       "      <th>End_year</th>\n",
       "      <th>End_month</th>\n",
       "      <th>End_month_year</th>\n",
       "    </tr>\n",
       "  </thead>\n",
       "  <tbody>\n",
       "    <tr>\n",
       "      <th>0</th>\n",
       "      <td>2013-06-18</td>\n",
       "      <td>Expired Up to 60% off Clearance items + Free S...</td>\n",
       "      <td>Nike Store offers Up to 60 % off Clearance ite...</td>\n",
       "      <td>2013-06-08</td>\n",
       "      <td>9.0</td>\n",
       "      <td>0.0</td>\n",
       "      <td>0.0</td>\n",
       "      <td>2013</td>\n",
       "      <td>6</td>\n",
       "      <td>2013-06</td>\n",
       "      <td>2013</td>\n",
       "      <td>6</td>\n",
       "      <td>2013-06</td>\n",
       "    </tr>\n",
       "    <tr>\n",
       "      <th>1</th>\n",
       "      <td>2013-08-20</td>\n",
       "      <td>Expired Extra 20% off Clearance items at Nike</td>\n",
       "      <td>Nike offers an extra 20% off clearance items v...</td>\n",
       "      <td>2013-08-09</td>\n",
       "      <td>3.0</td>\n",
       "      <td>0.0</td>\n",
       "      <td>0.0</td>\n",
       "      <td>2013</td>\n",
       "      <td>8</td>\n",
       "      <td>2013-08</td>\n",
       "      <td>2013</td>\n",
       "      <td>8</td>\n",
       "      <td>2013-08</td>\n",
       "    </tr>\n",
       "    <tr>\n",
       "      <th>2</th>\n",
       "      <td>2013-12-02</td>\n",
       "      <td>Expired Nike Men's Zoom Wildhorse Running Shoe...</td>\n",
       "      <td>Nike offers the Nike Men's Zoom Wildhorse Runn...</td>\n",
       "      <td>2013-11-22</td>\n",
       "      <td>1.0</td>\n",
       "      <td>17.0</td>\n",
       "      <td>0.0</td>\n",
       "      <td>2013</td>\n",
       "      <td>11</td>\n",
       "      <td>2013-11</td>\n",
       "      <td>2013</td>\n",
       "      <td>12</td>\n",
       "      <td>2013-12</td>\n",
       "    </tr>\n",
       "    <tr>\n",
       "      <th>3</th>\n",
       "      <td>2013-12-03</td>\n",
       "      <td>Expired Up to 33% Off+extra 25% OFF Nike Jorda...</td>\n",
       "      <td>Nike offers up to 33% off select clearance men...</td>\n",
       "      <td>2013-11-26</td>\n",
       "      <td>62.0</td>\n",
       "      <td>19.0</td>\n",
       "      <td>0.0</td>\n",
       "      <td>2013</td>\n",
       "      <td>11</td>\n",
       "      <td>2013-11</td>\n",
       "      <td>2013</td>\n",
       "      <td>12</td>\n",
       "      <td>2013-12</td>\n",
       "    </tr>\n",
       "    <tr>\n",
       "      <th>4</th>\n",
       "      <td>2013-12-20</td>\n",
       "      <td>Expired Free shipping sitewide Nike sale</td>\n",
       "      <td>Nike offers free shipping sitewide via coupon ...</td>\n",
       "      <td>2013-12-13</td>\n",
       "      <td>0.0</td>\n",
       "      <td>0.0</td>\n",
       "      <td>0.0</td>\n",
       "      <td>2013</td>\n",
       "      <td>12</td>\n",
       "      <td>2013-12</td>\n",
       "      <td>2013</td>\n",
       "      <td>12</td>\n",
       "      <td>2013-12</td>\n",
       "    </tr>\n",
       "  </tbody>\n",
       "</table>\n",
       "</div>"
      ],
      "text/plain": [
       "    End_date                                              Title  \\\n",
       "0 2013-06-18  Expired Up to 60% off Clearance items + Free S...   \n",
       "1 2013-08-20      Expired Extra 20% off Clearance items at Nike   \n",
       "2 2013-12-02  Expired Nike Men's Zoom Wildhorse Running Shoe...   \n",
       "3 2013-12-03  Expired Up to 33% Off+extra 25% OFF Nike Jorda...   \n",
       "4 2013-12-20           Expired Free shipping sitewide Nike sale   \n",
       "\n",
       "                                         Description Posted_date  \\\n",
       "0  Nike Store offers Up to 60 % off Clearance ite...  2013-06-08   \n",
       "1  Nike offers an extra 20% off clearance items v...  2013-08-09   \n",
       "2  Nike offers the Nike Men's Zoom Wildhorse Runn...  2013-11-22   \n",
       "3  Nike offers up to 33% off select clearance men...  2013-11-26   \n",
       "4  Nike offers free shipping sitewide via coupon ...  2013-12-13   \n",
       "\n",
       "   Comments_count  Bookmarks_count  Shares_count  Posted_year  Posted_month  \\\n",
       "0             9.0              0.0           0.0         2013             6   \n",
       "1             3.0              0.0           0.0         2013             8   \n",
       "2             1.0             17.0           0.0         2013            11   \n",
       "3            62.0             19.0           0.0         2013            11   \n",
       "4             0.0              0.0           0.0         2013            12   \n",
       "\n",
       "  Posted_month_year  End_year  End_month End_month_year  \n",
       "0           2013-06      2013          6        2013-06  \n",
       "1           2013-08      2013          8        2013-08  \n",
       "2           2013-11      2013         12        2013-12  \n",
       "3           2013-11      2013         12        2013-12  \n",
       "4           2013-12      2013         12        2013-12  "
      ]
     },
     "execution_count": 77,
     "metadata": {},
     "output_type": "execute_result"
    }
   ],
   "source": [
    "Nike_deals2.head(5)"
   ]
  },
  {
   "cell_type": "markdown",
   "metadata": {},
   "source": [
    "## How the deals are distributed over months:"
   ]
  },
  {
   "cell_type": "code",
   "execution_count": 76,
   "metadata": {},
   "outputs": [
    {
     "name": "stderr",
     "output_type": "stream",
     "text": [
      "/Users/tianbai/anaconda/envs/py3/lib/python3.7/site-packages/seaborn/categorical.py:3666: UserWarning: The `factorplot` function has been renamed to `catplot`. The original name will be removed in a future release. Please update your code. Note that the default `kind` in `factorplot` (`'point'`) has changed `'strip'` in `catplot`.\n",
      "  warnings.warn(msg)\n"
     ]
    },
    {
     "data": {
      "text/plain": [
       "<seaborn.axisgrid.FacetGrid at 0x1027f0470>"
      ]
     },
     "execution_count": 76,
     "metadata": {},
     "output_type": "execute_result"
    },
    {
     "data": {
      "image/png": "[encoded data removed]",
      "text/plain": [
       "<Figure size 360x360 with 1 Axes>"
      ]
     },
     "metadata": {
      "needs_background": "light"
     },
     "output_type": "display_data"
    }
   ],
   "source": [
    "sns.factorplot('Posted_month', data = Nike_deals2, kind='count')"
   ]
  },
  {
   "cell_type": "markdown",
   "metadata": {},
   "source": [
    "## Different companies have different patterns on distributing sales events over months:"
   ]
  },
  {
   "cell_type": "code",
   "execution_count": 78,
   "metadata": {},
   "outputs": [
    {
     "name": "stderr",
     "output_type": "stream",
     "text": [
      "/Users/tianbai/anaconda/envs/py3/lib/python3.7/site-packages/seaborn/categorical.py:3666: UserWarning: The `factorplot` function has been renamed to `catplot`. The original name will be removed in a future release. Please update your code. Note that the default `kind` in `factorplot` (`'point'`) has changed `'strip'` in `catplot`.\n",
      "  warnings.warn(msg)\n"
     ]
    },
    {
     "data": {
      "text/plain": [
       "<seaborn.axisgrid.FacetGrid at 0x1a16f32358>"
      ]
     },
     "execution_count": 78,
     "metadata": {},
     "output_type": "execute_result"
    },
    {
     "data": {
      "image/png": "[encoded data removed]",
      "text/plain": [
       "<Figure size 360x360 with 1 Axes>"
      ]
     },
     "metadata": {
      "needs_background": "light"
     },
     "output_type": "display_data"
    }
   ],
   "source": [
    "sns.factorplot('Posted_month', data = Adidas_deals2, kind='count')"
   ]
  },
  {
   "cell_type": "code",
   "execution_count": 1105,
   "metadata": {},
   "outputs": [
    {
     "data": {
      "text/plain": [
       "<seaborn.axisgrid.FacetGrid at 0x1c32d47940>"
      ]
     },
     "execution_count": 1105,
     "metadata": {},
     "output_type": "execute_result"
    },
    {
     "data": {
      "image/png": "[encoded data removed]",
      "text/plain": [
       "<Figure size 360x360 with 1 Axes>"
      ]
     },
     "metadata": {
      "needs_background": "light"
     },
     "output_type": "display_data"
    }
   ],
   "source": [
    "sns.catplot(x='Posted_month', y='Bookmarks_count', kind='box', data =Nike_deals2)"
   ]
  },
  {
   "cell_type": "markdown",
   "metadata": {},
   "source": [
    "## Extract discount features from the deal description:"
   ]
  },
  {
   "cell_type": "markdown",
   "metadata": {},
   "source": [
    "*Based on the EDA, we found the following key words related to the discount:*\n",
    "1. extra xx% off, up to xx% off and xx% off:  \n",
    "`regex`: `'((extra|(up+\\s+to))\\s)?\\d+\\%+\\s+off'`\n",
    "2. $\\$$x.xx $\\$$x.xx, $\\$$xxx($\\$$xxx), i.e. current price original price   :  \n",
    "`regex`: `'\\$(\\d)+(.\\d{2})?(\\s*)+\\(?\\$\\d+(.\\d{2})?\\)?'`\n",
    "3. $\\$$ xx off $\\$$ xx or $\\$$ xx get $\\$$ xx:  \n",
    "`regex`: `'\\$(\\d)+(.\\d{2})?\\s(off|get)\\s\\$\\d+(.\\d{2})?\\)?'` \n",
    "4. Whether `select products` appears:  \n",
    "`regex`: `'select'`"
   ]
  },
  {
   "cell_type": "code",
   "execution_count": 82,
   "metadata": {},
   "outputs": [],
   "source": [
    "reg_all = ['(extra|up+\\s+to)?\\s?(\\d+\\%+\\s+off)', \n",
    "           '\\$\\d+.?\\d*(?!\\n)\\s*\\(?\\$\\d*.?\\d*\\)?', \n",
    "           '\\$\\d*.?\\d{2}?\\s+[get|off]+\\s\\$\\d*.?\\d{2}?',\n",
    "           'select']"
   ]
  },
  {
   "cell_type": "code",
   "execution_count": 84,
   "metadata": {},
   "outputs": [],
   "source": [
    "def p2f(x):\n",
    "    x = x[:-4]\n",
    "    return float(x.strip('%'))/100\n",
    "\n",
    "def dollar2f(x):\n",
    "    y = x.strip(', ')\n",
    "    y = re.sub(r'[^\\w\\s]','',y)\n",
    "    return float(y.strip('$'))\n",
    "\n",
    "def find_dis_amount(df):\n",
    "    n = len(df['Description'].values)\n",
    "    dis_amount = []\n",
    "    dis_label = []\n",
    "    for x in range(n):\n",
    "        m = []\n",
    "        for reg in reg_all:\n",
    "            m.append(re.findall(reg, df['Description'].values[x],flags=re.IGNORECASE))\n",
    "        m_new = []\n",
    "        label = None\n",
    "        if m[0]:\n",
    "            i = np.shape(m[0])[0]\n",
    "            j = np.shape(np.shape(m[0]))[0]\n",
    "            m_new=[p2f(m[0][k][-1]) for k in range(i)]\n",
    "            if j > 1:\n",
    "                label = [m[0][k][0].lower() for k in range(i) if m[0][k][0]]\n",
    "        if m[1]:\n",
    "            i = np.shape(m[1])[0]\n",
    "            j = np.shape(np.shape(m[1]))[0]\n",
    "            try:\n",
    "                temp = m[1][0].split(\"$\")\n",
    "                prices = []\n",
    "                for price in temp:\n",
    "                    if not price:\n",
    "                        continue\n",
    "                    else:\n",
    "                        prices.append(price)\n",
    "                current, original = prices\n",
    "            except:\n",
    "                print(x)\n",
    "                m_new.append(0)\n",
    "            \n",
    "            current = dollar2f(current)\n",
    "            original = dollar2f(original)\n",
    "            discount = current / original\n",
    "            m_new.append(round(1-discount,2))\n",
    "        if not m_new:\n",
    "            dis_amount.append(0)\n",
    "            dis_label.append('none')\n",
    "        else:\n",
    "            if label:\n",
    "                if 'extra' in label:\n",
    "                    dis_amount.append(m_new[label.index('extra')])\n",
    "                    dis_label.append(label[label.index('extra')])\n",
    "                elif 'up to' in label:\n",
    "                    dis_amount.append(m_new[label.index('up to')])\n",
    "                    dis_label.append(label[label.index('up to')])\n",
    "                else:\n",
    "                    dis_amount.append(m_new[0])\n",
    "                    dis_label.append(label[0])\n",
    "            else:\n",
    "                dis_amount.append(m_new[0])\n",
    "                dis_label.append('none')\n",
    "        #if not label:\n",
    "        #    dis_label.append('none')\n",
    "       # else:\n",
    "         #   dis_label.append(label[0])\n",
    "    df['Discount_amount'] = dis_amount\n",
    "    df['Discount_label'] = dis_label\n",
    "    return df"
   ]
  },
  {
   "cell_type": "code",
   "execution_count": 85,
   "metadata": {},
   "outputs": [],
   "source": [
    "Nike_deals = find_dis_amount(Nike_deals)\n",
    "Adidas_deals = find_dis_amount(Adidas_deals)\n",
    "UnderArmour_deals = find_dis_amount(UnderArmour_deals)\n",
    "Reebok_deals = find_dis_amount(Reebok_deals)\n",
    "NewBalance_deals = find_dis_amount(NewBalance_deals)\n",
    "ClubMonaco_deals = find_dis_amount(ClubMonaco_deals)\n",
    "KateSpade_deals = find_dis_amount(KateSpade_deals)\n",
    "ToryBurch_deals = find_dis_amount(ToryBurch_deals)"
   ]
  },
  {
   "cell_type": "code",
   "execution_count": 86,
   "metadata": {},
   "outputs": [
    {
     "data": {
      "text/plain": [
       "<matplotlib.axes._subplots.AxesSubplot at 0x1a18893d30>"
      ]
     },
     "execution_count": 86,
     "metadata": {},
     "output_type": "execute_result"
    },
    {
     "data": {
      "image/png": "[encoded data removed]",
      "text/plain": [
       "<Figure size 432x288 with 1 Axes>"
      ]
     },
     "metadata": {
      "needs_background": "light"
     },
     "output_type": "display_data"
    }
   ],
   "source": [
    "sns.pointplot(x=\"Posted_date\", y=\"Discount_amount\",\n",
    "             hue=\"Discount_label\",\n",
    "             data=Nike_deals)"
   ]
  },
  {
   "cell_type": "code",
   "execution_count": 87,
   "metadata": {},
   "outputs": [
    {
     "name": "stderr",
     "output_type": "stream",
     "text": [
      "/Users/tianbai/anaconda/envs/py3/lib/python3.7/site-packages/scipy/stats/stats.py:1713: FutureWarning: Using a non-tuple sequence for multidimensional indexing is deprecated; use `arr[tuple(seq)]` instead of `arr[seq]`. In the future this will be interpreted as an array index, `arr[np.array(seq)]`, which will result either in an error or a different result.\n",
      "  return np.add.reduce(sorted[indexer] * weights, axis=axis) / sumval\n"
     ]
    },
    {
     "data": {
      "text/plain": [
       "<matplotlib.axes._subplots.AxesSubplot at 0x1a1794a3c8>"
      ]
     },
     "execution_count": 87,
     "metadata": {},
     "output_type": "execute_result"
    },
    {
     "data": {
      "image/png": "[encoded data removed]",
      "text/plain": [
       "<Figure size 432x288 with 1 Axes>"
      ]
     },
     "metadata": {
      "needs_background": "light"
     },
     "output_type": "display_data"
    }
   ],
   "source": [
    "sns.pointplot(x=\"Posted_month\", y=\"Discount_amount\",\n",
    "             data=Nike_deals[(Nike_deals['Discount_label'] == 'extra')])"
   ]
  },
  {
   "cell_type": "code",
   "execution_count": 98,
   "metadata": {},
   "outputs": [
    {
     "data": {
      "text/plain": [
       "<matplotlib.axes._subplots.AxesSubplot at 0x1a17c5b908>"
      ]
     },
     "execution_count": 98,
     "metadata": {},
     "output_type": "execute_result"
    },
    {
     "data": {
      "image/png": "[encoded data removed]",
      "text/plain": [
       "<Figure size 432x288 with 1 Axes>"
      ]
     },
     "metadata": {
      "needs_background": "light"
     },
     "output_type": "display_data"
    }
   ],
   "source": [
    "sns. lineplot(x=\"Posted_date\", y=\"Discount_amount\",\n",
    "             data=Adidas_discount)"
   ]
  },
  {
   "cell_type": "code",
   "execution_count": 89,
   "metadata": {},
   "outputs": [],
   "source": [
    "def add_more_time_features(df, prefix='Posted'):\n",
    "    \n",
    "    # The string prefix must be 'Posted' or 'End'.\n",
    "    # More features can be added, eg. day of week, week of month and holiday features.\n",
    "    \n",
    "    df[prefix+'_dayofweek'] = df[prefix+'_date'].dt.dayofweek\n",
    "    df[prefix+'_day'] = df[prefix+'_date'].dt.day\n",
    "    return df"
   ]
  },
  {
   "cell_type": "code",
   "execution_count": 92,
   "metadata": {},
   "outputs": [],
   "source": [
    "Nike_deals=add_more_time_features(Nike_deals)\n",
    "Adidas_deals=add_more_time_features(Adidas_deals)\n",
    "UnderArmour_deals=add_more_time_features(UnderArmour_deals)\n",
    "Reebok_deals=add_more_time_features(Reebok_deals)\n",
    "NewBalance_deals=add_more_time_features(NewBalance_deals)\n",
    "ClubMonaco_deals=add_more_time_features(ClubMonaco_deals)\n",
    "KateSpade_deals=add_more_time_features(KateSpade_deals)\n",
    "ToryBurch_deals=add_more_time_features(ToryBurch_deals)"
   ]
  },
  {
   "cell_type": "markdown",
   "metadata": {},
   "source": [
    "## Save only the \"extra xx% off\" type of sales event:"
   ]
  },
  {
   "cell_type": "code",
   "execution_count": 93,
   "metadata": {},
   "outputs": [],
   "source": [
    "def new_discount_df(df, extra=True):\n",
    "    Dates = pd.date_range(df['Posted_date'].min(), df['End_date'].max(), freq='D')\n",
    "    #Dates = pd.date_range(df['Posted_date'].min(), pd.datetime(2019,11,1), freq='D')\n",
    "    new_disc = []\n",
    "    if extra:\n",
    "        deals_extra = df[df['Discount_label'] == 'extra'].sort_values(by='Posted_date')\n",
    "    else:\n",
    "        deals_extra = df[df['Discount_label'] != 'up to'].sort_values(by='Posted_date')\n",
    "    i = 0\n",
    "    for date in Dates:\n",
    "        if i < deals_extra.shape[0] and date >= deals_extra.iloc[i]['Posted_date']:\n",
    "            #if deals_extra.iloc[i]['End_date'] < deals_extra.iloc[i]['Posted_date']:\n",
    "            #    end_date = deals_extra.iloc[i]['End_date'] + timedelta(365)\n",
    "            #else:\n",
    "            end_date = deals_extra.iloc[i]['End_date']\n",
    "            if date <= end_date:\n",
    "                #print(i)\n",
    "                new_disc.append(deals_extra.iloc[i]['Discount_amount'])\n",
    "            else:\n",
    "                new_disc.append(0)\n",
    "                i += 1\n",
    "        else:\n",
    "            new_disc.append(0)\n",
    "    Discount_amount = pd.DataFrame({'Posted_date': Dates, 'Discount_amount': new_disc})\n",
    "    return Discount_amount"
   ]
  },
  {
   "cell_type": "code",
   "execution_count": 94,
   "metadata": {},
   "outputs": [],
   "source": [
    "Nike_discount = new_discount_df(Nike_deals)\n",
    "Adidas_discount = new_discount_df(Adidas_deals)\n",
    "UnderArmour_discount = new_discount_df(UnderArmour_deals)\n",
    "Reebok_discount = new_discount_df(Reebok_deals)\n",
    "NewBalance_discount = new_discount_df(NewBalance_deals, extra=False)\n",
    "ClubMonaco_discount = new_discount_df(ClubMonaco_deals)\n",
    "KateSpade_discount = new_discount_df(KateSpade_deals)\n",
    "ToryBurch_discount = new_discount_df(ToryBurch_deals)"
   ]
  },
  {
   "cell_type": "code",
   "execution_count": 103,
   "metadata": {},
   "outputs": [],
   "source": [
    "Nike_discount.to_csv('Datasets/Nike_clean.csv', index=False)\n",
    "Adidas_discount.to_csv('Datasets/Adidas_clean.csv', index=False)\n",
    "UnderArmour_discount.to_csv('Datasets/UnderArmour_clean.csv', index=False)\n",
    "Reebok_discount.to_csv('Datasets/Reebok_clean.csv', index=False)\n",
    "NewBalance_discount.to_csv('Datasets/NewBalance_clean.csv', index=False)\n",
    "ClubMonaco_discount.to_csv('Datasets/ClubMonaco_clean.csv', index=False)\n",
    "KateSpade_discount.to_csv('Datasets/KateSpade_clean.csv', index=False)\n",
    "ToryBurch_discount.to_csv('Datasets/ToryBurch_clean.csv', index=False)"
   ]
  },
  {
   "cell_type": "code",
   "execution_count": null,
   "metadata": {},
   "outputs": [],
   "source": []
  }
 ],
 "metadata": {
  "kernelspec": {
   "display_name": "Python 3",
   "language": "python",
   "name": "python3"
  },
  "language_info": {
   "codemirror_mode": {
    "name": "ipython",
    "version": 3
   },
   "file_extension": ".py",
   "mimetype": "text/x-python",
   "name": "python",
   "nbconvert_exporter": "python",
   "pygments_lexer": "ipython3",
   "version": "3.7.1"
  }
 },
 "nbformat": 4,
 "nbformat_minor": 2
}
