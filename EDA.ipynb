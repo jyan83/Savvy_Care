{
 "cells": [
  {
   "cell_type": "markdown",
   "metadata": {},
   "source": [
    "## Objective\n",
    "Make a baseline model that predict the validation.\n",
    "\n"
   ]
  },
  {
   "cell_type": "markdown",
   "metadata": {},
   "source": [
    "## Data Overview\n",
    "File 1: estee-lauder.csv\n",
    "* brand name: the id of the brand\n",
    "* date: the date in a \"y-m-d\" format.\n",
    "* discount: the info of the discount, sometimes XX% off, buy one get one free, gift with purchase (GWP), etc\n",
    "* Comments_count: the number of people make comments of this deal.\n",
    "* Bookmarks_count: the number of people saved the info this deal.\n",
    "* Shares_count: the number of people shared this deal."
   ]
  },
  {
   "cell_type": "markdown",
   "metadata": {},
   "source": [
    "## EDA\n",
    "### Load data"
   ]
  },
  {
   "cell_type": "code",
   "execution_count": 32,
   "metadata": {
    "scrolled": true
   },
   "outputs": [
    {
     "name": "stdout",
     "output_type": "stream",
     "text": [
      "(2729, 6)\n"
     ]
    },
    {
     "data": {
      "text/html": [
       "<div>\n",
       "<style scoped>\n",
       "    .dataframe tbody tr th:only-of-type {\n",
       "        vertical-align: middle;\n",
       "    }\n",
       "\n",
       "    .dataframe tbody tr th {\n",
       "        vertical-align: top;\n",
       "    }\n",
       "\n",
       "    .dataframe thead th {\n",
       "        text-align: right;\n",
       "    }\n",
       "</style>\n",
       "<table border=\"1\" class=\"dataframe\">\n",
       "  <thead>\n",
       "    <tr style=\"text-align: right;\">\n",
       "      <th></th>\n",
       "      <th>Store</th>\n",
       "      <th>Discount</th>\n",
       "      <th>Posted_date</th>\n",
       "      <th>Comments_count</th>\n",
       "      <th>Bookmarks_count</th>\n",
       "      <th>Shares_count</th>\n",
       "    </tr>\n",
       "  </thead>\n",
       "  <tbody>\n",
       "    <tr>\n",
       "      <th>0</th>\n",
       "      <td>Estee Lauder</td>\n",
       "      <td>Free Gifts</td>\n",
       "      <td>2020-05-29</td>\n",
       "      <td>99.0</td>\n",
       "      <td>95.0</td>\n",
       "      <td>131.0</td>\n",
       "    </tr>\n",
       "    <tr>\n",
       "      <th>1</th>\n",
       "      <td>Estee Lauder</td>\n",
       "      <td>Free ANR Trio+Up to 6-pc Gifts</td>\n",
       "      <td>2020-05-26</td>\n",
       "      <td>93.0</td>\n",
       "      <td>93.0</td>\n",
       "      <td>57.0</td>\n",
       "    </tr>\n",
       "    <tr>\n",
       "      <th>2</th>\n",
       "      <td>Estee Lauder</td>\n",
       "      <td>20% Off + Free Gifts</td>\n",
       "      <td>2020-05-21</td>\n",
       "      <td>436.0</td>\n",
       "      <td>179.0</td>\n",
       "      <td>178.0</td>\n",
       "    </tr>\n",
       "    <tr>\n",
       "      <th>3</th>\n",
       "      <td>Estee Lauder</td>\n",
       "      <td>20% Off + Free Gifts</td>\n",
       "      <td>2020-05-21</td>\n",
       "      <td>15.0</td>\n",
       "      <td>26.0</td>\n",
       "      <td>23.0</td>\n",
       "    </tr>\n",
       "    <tr>\n",
       "      <th>4</th>\n",
       "      <td>Estee Lauder</td>\n",
       "      <td>BOGO + Up to 6-pc Gifts</td>\n",
       "      <td>2020-05-11</td>\n",
       "      <td>7042.0</td>\n",
       "      <td>1400.0</td>\n",
       "      <td>1081.0</td>\n",
       "    </tr>\n",
       "  </tbody>\n",
       "</table>\n",
       "</div>"
      ],
      "text/plain": [
       "          Store                        Discount Posted_date  Comments_count  \\\n",
       "0  Estee Lauder                      Free Gifts  2020-05-29            99.0   \n",
       "1  Estee Lauder  Free ANR Trio+Up to 6-pc Gifts  2020-05-26            93.0   \n",
       "2  Estee Lauder            20% Off + Free Gifts  2020-05-21           436.0   \n",
       "3  Estee Lauder            20% Off + Free Gifts  2020-05-21            15.0   \n",
       "4  Estee Lauder         BOGO + Up to 6-pc Gifts  2020-05-11          7042.0   \n",
       "\n",
       "   Bookmarks_count  Shares_count  \n",
       "0             95.0         131.0  \n",
       "1             93.0          57.0  \n",
       "2            179.0         178.0  \n",
       "3             26.0          23.0  \n",
       "4           1400.0        1081.0  "
      ]
     },
     "execution_count": 32,
     "metadata": {},
     "output_type": "execute_result"
    }
   ],
   "source": [
    "## Import modules:\n",
    "import numpy as np\n",
    "import pandas as pd\n",
    "import matplotlib.pyplot as plt\n",
    "\n",
    "## Import data:\n",
    "df_r = pd.read_csv(\"Data/Dealmoon/estee-lauder.csv\")\n",
    "df_r.drop([\"Brand\"], axis=1, inplace=True)\n",
    "print(df_r.shape)\n",
    "df_r.head()"
   ]
  },
  {
   "cell_type": "markdown",
   "metadata": {},
   "source": [
    "## Simple discount processing\n",
    "Look at the discount information first:"
   ]
  },
  {
   "cell_type": "code",
   "execution_count": 59,
   "metadata": {},
   "outputs": [
    {
     "data": {
      "text/plain": [
       "15% Off                                                                                   177\n",
       "Dealmoon Exclusive! Up to 5 free deluxe samples!                                          174\n",
       "$62                                                                                        90\n",
       "$45                                                                                        90\n",
       "$39.5                                                                                      89\n",
       "$110 + Gifts                                                                               89\n",
       "$54                                                                                        89\n",
       "$32                                                                                        88\n",
       "15% Off One Online Order                                                                   88\n",
       "$79+Free Gifts                                                                             88\n",
       "Free 8-piece gift                                                                          87\n",
       "$68                                                                                        87\n",
       "$49.3                                                                                      87\n",
       "Free 9-Piece Gift With                                                                     87\n",
       "$45.9                                                                                      87\n",
       "$52                                                                                        87\n",
       "$52.7                                                                                      87\n",
       "Mobile Exclusive! Free Deluxe Sample                                                       87\n",
       "Free 3 Deluxe Samples                                                                      21\n",
       "receive a free 7-pc gift                                                                   18\n",
       "Free 2 Deluxe Samples                                                                      14\n",
       "Dealmoon Exclusive!                                                                        12\n",
       "Online EXCLUSIVE! Free 7-Piece Gift ($120+ Value)                                          11\n",
       "DEALMOON EXCLUSIVE FOR E-LISTERS！20% off                                                   11\n",
       "Free 3 Pc Gift                                                                             10\n",
       "Free 7-pc Gift (up to $184 Value)                                                           9\n",
       "Up to 13-pc gifts                                                                           9\n",
       "Free 2-pc Deluxe Travel Sizes Serums                                                        9\n",
       "2 Free Deluxe Samples                                                                       8\n",
       "3 Free Deluxe Samples                                                                       8\n",
       "                                                                                         ... \n",
       "$90                                                                                         1\n",
       "$67.2                                                                                       1\n",
       "30% off                                                                                     1\n",
       "Free 7-Pc Gift + Free Free Full Size Sumptuous Mascara + Full Size Little Black Primer      1\n",
       "3 Chances to will an Offer + Free 2nd Day Shipping                                          1\n",
       "Dealmoon Exclusive! $52 + Free 6 Pcs Gift                                                   1\n",
       "Estee Lauder Limited Edition Sets                                                           1\n",
       "DEALMOON EXCLUSIVE! Receive a free full-size gift with $50 purchase                         1\n",
       "Dealmoon Exclusive! 4 Pieces Gift                                                           1\n",
       "FREE 4 High Performance Formulas Samples                                                    1\n",
       "Cyber Monday Suprise                                                                        1\n",
       "Free Deluxe Sample Duo of Perfect & Smooth                                                  1\n",
       "$85.00$130.00                                                                               1\n",
       "Free 4 Pieces Deluxe Samples                                                                1\n",
       "20% off $100+ANR purchase                                                                   1\n",
       "Enjoy up to 11-pc free gift                                                                 1\n",
       "Dealmoon Exclusive! Spend $50 & receive 4 deluxe samples                                    1\n",
       "$20 Off + Up to 3-pc Gift                                                                   1\n",
       "Up to $20 OFF                                                                               1\n",
       "New In                                                                                      1\n",
       "2 Gifts on $75                                                                              1\n",
       "$68+Free 9-piece gift                                                                       1\n",
       "Dealmoon Exclusive! 15% Off First Order + 2 Deluxe Samples                                  1\n",
       "Receive a full-size Nutritious Vitality8 Eye Jelly                                          1\n",
       "$33.5                                                                                       1\n",
       "Up to 6 samples                                                                             1\n",
       "Dealmoon Exclusive! Free 4 Faves                                                            1\n",
       "Limited Edition Makeup Collection for $25 (Worth Over $100)                                 1\n",
       "Free 2 piece Sample Duo                                                                     1\n",
       "Free 3 Samples                                                                              1\n",
       "Name: Discount, Length: 563, dtype: int64"
      ]
     },
     "execution_count": 59,
     "metadata": {},
     "output_type": "execute_result"
    }
   ],
   "source": [
    "df_r['Discount'].value_counts()"
   ]
  },
  {
   "cell_type": "markdown",
   "metadata": {},
   "source": [
    "Just simply extracting the XX% off information first:"
   ]
  },
  {
   "cell_type": "code",
   "execution_count": 33,
   "metadata": {},
   "outputs": [
    {
     "name": "stdout",
     "output_type": "stream",
     "text": [
      "(361, 7)\n"
     ]
    },
    {
     "data": {
      "text/html": [
       "<div>\n",
       "<style scoped>\n",
       "    .dataframe tbody tr th:only-of-type {\n",
       "        vertical-align: middle;\n",
       "    }\n",
       "\n",
       "    .dataframe tbody tr th {\n",
       "        vertical-align: top;\n",
       "    }\n",
       "\n",
       "    .dataframe thead th {\n",
       "        text-align: right;\n",
       "    }\n",
       "</style>\n",
       "<table border=\"1\" class=\"dataframe\">\n",
       "  <thead>\n",
       "    <tr style=\"text-align: right;\">\n",
       "      <th></th>\n",
       "      <th>Store</th>\n",
       "      <th>Discount</th>\n",
       "      <th>Posted_date</th>\n",
       "      <th>Comments_count</th>\n",
       "      <th>Bookmarks_count</th>\n",
       "      <th>Shares_count</th>\n",
       "      <th>Discount_off</th>\n",
       "    </tr>\n",
       "  </thead>\n",
       "  <tbody>\n",
       "    <tr>\n",
       "      <th>2</th>\n",
       "      <td>Estee Lauder</td>\n",
       "      <td>20% Off + Free Gifts</td>\n",
       "      <td>2020-05-21</td>\n",
       "      <td>436.0</td>\n",
       "      <td>179.0</td>\n",
       "      <td>178.0</td>\n",
       "      <td>0.2</td>\n",
       "    </tr>\n",
       "    <tr>\n",
       "      <th>3</th>\n",
       "      <td>Estee Lauder</td>\n",
       "      <td>20% Off + Free Gifts</td>\n",
       "      <td>2020-05-21</td>\n",
       "      <td>15.0</td>\n",
       "      <td>26.0</td>\n",
       "      <td>23.0</td>\n",
       "      <td>0.2</td>\n",
       "    </tr>\n",
       "    <tr>\n",
       "      <th>29</th>\n",
       "      <td>Estee Lauder</td>\n",
       "      <td>20% Off on $100 + Free Gifts</td>\n",
       "      <td>2019-12-14</td>\n",
       "      <td>1533.0</td>\n",
       "      <td>729.0</td>\n",
       "      <td>699.0</td>\n",
       "      <td>0.2</td>\n",
       "    </tr>\n",
       "    <tr>\n",
       "      <th>30</th>\n",
       "      <td>Estee Lauder</td>\n",
       "      <td>Up to 40% Off + Free Gifts</td>\n",
       "      <td>2019-12-12</td>\n",
       "      <td>19.0</td>\n",
       "      <td>57.0</td>\n",
       "      <td>52.0</td>\n",
       "      <td>0.4</td>\n",
       "    </tr>\n",
       "    <tr>\n",
       "      <th>31</th>\n",
       "      <td>Estee Lauder</td>\n",
       "      <td>Up to 40% Off</td>\n",
       "      <td>2019-12-03</td>\n",
       "      <td>60.0</td>\n",
       "      <td>94.0</td>\n",
       "      <td>64.0</td>\n",
       "      <td>0.4</td>\n",
       "    </tr>\n",
       "  </tbody>\n",
       "</table>\n",
       "</div>"
      ],
      "text/plain": [
       "           Store                      Discount Posted_date  Comments_count  \\\n",
       "2   Estee Lauder          20% Off + Free Gifts  2020-05-21           436.0   \n",
       "3   Estee Lauder          20% Off + Free Gifts  2020-05-21            15.0   \n",
       "29  Estee Lauder  20% Off on $100 + Free Gifts  2019-12-14          1533.0   \n",
       "30  Estee Lauder    Up to 40% Off + Free Gifts  2019-12-12            19.0   \n",
       "31  Estee Lauder                 Up to 40% Off  2019-12-03            60.0   \n",
       "\n",
       "    Bookmarks_count  Shares_count  Discount_off  \n",
       "2             179.0         178.0           0.2  \n",
       "3              26.0          23.0           0.2  \n",
       "29            729.0         699.0           0.2  \n",
       "30             57.0          52.0           0.4  \n",
       "31             94.0          64.0           0.4  "
      ]
     },
     "execution_count": 33,
     "metadata": {},
     "output_type": "execute_result"
    }
   ],
   "source": [
    "df_n = data_raw.copy()\n",
    "df_n['Discount_off'] = df_n['Discount'].str.extract(r'(?P<discount>\\d+)[%]')\n",
    "df_n['Discount_off'] = df_n['Discount_off'].astype('float32')/100\n",
    "df_n= df_n[df_n['Discount_off'].notna()]\n",
    "print(df_n.shape)\n",
    "df_n.head()"
   ]
  },
  {
   "cell_type": "code",
   "execution_count": 61,
   "metadata": {},
   "outputs": [
    {
     "data": {
      "image/png": "[encoded data removed]",
      "text/plain": [
       "<Figure size 1008x576 with 1 Axes>"
      ]
     },
     "metadata": {
      "needs_background": "light"
     },
     "output_type": "display_data"
    }
   ],
   "source": [
    "## Exploratory Visualization\n",
    "# sort dataframe by date\n",
    "df_n = df_n.sort_values(by=['Posted_date'])\n",
    "\n",
    "fig = plt.figure(figsize=(14,8))\n",
    "fig.set(alpha=0.5)\n",
    "ax=plt.subplot2grid((2,3),(0,0))\n",
    "plt.plot(df_n.Posted_date, df_n.Discount_off)\n",
    "plt.xlabel(u\"Days\")\n",
    "plt.xticks([])\n",
    "plt.ylabel(u\"Discount by % OFF\")\n",
    "plt.title(u\"Deals starting from \"+ str(df_n.Posted_date.min()))\n",
    "plt.tight_layout()\n",
    "plt.show()"
   ]
  },
  {
   "cell_type": "markdown",
   "metadata": {},
   "source": [
    "From 2729 to 361 observations, seems lost a lot of data, and they don't always disrectly discount products. There are a lot of time they are offering gift with purchase (GWP) or GWP plus percentage off, so clustering them into another category:"
   ]
  },
  {
   "cell_type": "code",
   "execution_count": 62,
   "metadata": {},
   "outputs": [],
   "source": [
    "#df_n['Discount_GWP'] = []\n",
    "#for \n",
    "#df_n['Discount_off'] = df_n['Discount_off'].astype('float32')/100\n",
    "#df_n= df_n[df_n['Discount_off'].notna()]"
   ]
  },
  {
   "cell_type": "code",
   "execution_count": 64,
   "metadata": {},
   "outputs": [],
   "source": [
    "from pandas.tseries.holiday import USFederalHolidayCalendar as holidays\n",
    "def get_holidays(yearrange = None):\n",
    "    \"\"\"\n",
    "    Get the pd.DataFrame containing all the holidays date and names for the given years\n",
    "    Parameters:\n",
    "    -----------\n",
    "    yearrange: list of years to be included in the result\n",
    "    \n",
    "    Returns:\n",
    "    --------\n",
    "    pd.DataFrame of holidays' date and names\n",
    "    \"\"\"\n",
    "    if yearrange is None:\n",
    "        return None\n",
    "    \n",
    "    holidaydict = {\"date\": [], \"name\": []}\n",
    "    for date, name in holidays.US(years=yearrange).items():\n",
    "        if \"Observed\" in name:\n",
    "            continue\n",
    "        holidaydict[\"date\"].append(date)\n",
    "        holidaydict[\"name\"].append(name.replace(',', '').replace('\\'','').replace('.','').replace(' ', '_'))\n",
    "        #print(date, name)\n",
    "    pd_holiday = pd.DataFrame(holidaydict)\n",
    "    pd_holiday[\"date\"] = pd.to_datetime(pd_holiday[\"date\"])\n",
    "    return pd_holiday"
   ]
  },
  {
   "cell_type": "code",
   "execution_count": 66,
   "metadata": {},
   "outputs": [
    {
     "name": "stdout",
     "output_type": "stream",
     "text": [
      "holiday year range: range(2010, 2020)\n"
     ]
    },
    {
     "ename": "AttributeError",
     "evalue": "type object 'USFederalHolidayCalendar' has no attribute 'US'",
     "output_type": "error",
     "traceback": [
      "\u001b[1;31m---------------------------------------------------------------------------\u001b[0m",
      "\u001b[1;31mAttributeError\u001b[0m                            Traceback (most recent call last)",
      "\u001b[1;32m<ipython-input-66-4cf9c2110ffa>\u001b[0m in \u001b[0;36m<module>\u001b[1;34m\u001b[0m\n\u001b[0;32m      3\u001b[0m \u001b[0mhyearrange\u001b[0m\u001b[1;33m=\u001b[0m\u001b[0mrange\u001b[0m\u001b[1;33m(\u001b[0m\u001b[1;36m2010\u001b[0m\u001b[1;33m,\u001b[0m \u001b[1;36m2020\u001b[0m\u001b[1;33m)\u001b[0m\u001b[1;33m\u001b[0m\u001b[1;33m\u001b[0m\u001b[0m\n\u001b[0;32m      4\u001b[0m \u001b[0mprint\u001b[0m\u001b[1;33m(\u001b[0m\u001b[1;34m\"holiday year range:\"\u001b[0m\u001b[1;33m,\u001b[0m \u001b[0mhyearrange\u001b[0m\u001b[1;33m)\u001b[0m\u001b[1;33m\u001b[0m\u001b[1;33m\u001b[0m\u001b[0m\n\u001b[1;32m----> 5\u001b[1;33m \u001b[0mpd_holiday\u001b[0m \u001b[1;33m=\u001b[0m \u001b[0mget_holidays\u001b[0m\u001b[1;33m(\u001b[0m\u001b[0mhyearrange\u001b[0m\u001b[1;33m)\u001b[0m\u001b[1;33m\u001b[0m\u001b[1;33m\u001b[0m\u001b[0m\n\u001b[0m\u001b[0;32m      6\u001b[0m \u001b[0mprint\u001b[0m\u001b[1;33m(\u001b[0m\u001b[0mpd_holiday\u001b[0m\u001b[1;33m.\u001b[0m\u001b[0mhead\u001b[0m\u001b[1;33m(\u001b[0m\u001b[1;33m)\u001b[0m\u001b[1;33m)\u001b[0m\u001b[1;33m\u001b[0m\u001b[1;33m\u001b[0m\u001b[0m\n\u001b[0;32m      7\u001b[0m \u001b[0mholidayset\u001b[0m \u001b[1;33m=\u001b[0m \u001b[0mset\u001b[0m\u001b[1;33m(\u001b[0m\u001b[1;33m[\u001b[0m\u001b[0mh\u001b[0m \u001b[1;32mfor\u001b[0m \u001b[0mh\u001b[0m \u001b[1;32min\u001b[0m \u001b[0mpd_holiday\u001b[0m\u001b[1;33m[\u001b[0m\u001b[1;34m\"name\"\u001b[0m\u001b[1;33m]\u001b[0m\u001b[1;33m]\u001b[0m\u001b[1;33m)\u001b[0m\u001b[1;33m\u001b[0m\u001b[1;33m\u001b[0m\u001b[0m\n",
      "\u001b[1;32m<ipython-input-64-cb2f883d796b>\u001b[0m in \u001b[0;36mget_holidays\u001b[1;34m(yearrange)\u001b[0m\n\u001b[0;32m     15\u001b[0m \u001b[1;33m\u001b[0m\u001b[0m\n\u001b[0;32m     16\u001b[0m     \u001b[0mholidaydict\u001b[0m \u001b[1;33m=\u001b[0m \u001b[1;33m{\u001b[0m\u001b[1;34m\"date\"\u001b[0m\u001b[1;33m:\u001b[0m \u001b[1;33m[\u001b[0m\u001b[1;33m]\u001b[0m\u001b[1;33m,\u001b[0m \u001b[1;34m\"name\"\u001b[0m\u001b[1;33m:\u001b[0m \u001b[1;33m[\u001b[0m\u001b[1;33m]\u001b[0m\u001b[1;33m}\u001b[0m\u001b[1;33m\u001b[0m\u001b[1;33m\u001b[0m\u001b[0m\n\u001b[1;32m---> 17\u001b[1;33m     \u001b[1;32mfor\u001b[0m \u001b[0mdate\u001b[0m\u001b[1;33m,\u001b[0m \u001b[0mname\u001b[0m \u001b[1;32min\u001b[0m \u001b[0mholidays\u001b[0m\u001b[1;33m.\u001b[0m\u001b[0mUS\u001b[0m\u001b[1;33m(\u001b[0m\u001b[0myears\u001b[0m\u001b[1;33m=\u001b[0m\u001b[0myearrange\u001b[0m\u001b[1;33m)\u001b[0m\u001b[1;33m.\u001b[0m\u001b[0mitems\u001b[0m\u001b[1;33m(\u001b[0m\u001b[1;33m)\u001b[0m\u001b[1;33m:\u001b[0m\u001b[1;33m\u001b[0m\u001b[1;33m\u001b[0m\u001b[0m\n\u001b[0m\u001b[0;32m     18\u001b[0m         \u001b[1;32mif\u001b[0m \u001b[1;34m\"Observed\"\u001b[0m \u001b[1;32min\u001b[0m \u001b[0mname\u001b[0m\u001b[1;33m:\u001b[0m\u001b[1;33m\u001b[0m\u001b[1;33m\u001b[0m\u001b[0m\n\u001b[0;32m     19\u001b[0m             \u001b[1;32mcontinue\u001b[0m\u001b[1;33m\u001b[0m\u001b[1;33m\u001b[0m\u001b[0m\n",
      "\u001b[1;31mAttributeError\u001b[0m: type object 'USFederalHolidayCalendar' has no attribute 'US'"
     ]
    }
   ],
   "source": [
    "# consider holidays from year before and year after, because the closest holiday may not in the\n",
    "# same year as the date under consideration\n",
    "hyearrange=range(2010, 2020)\n",
    "print(\"holiday year range:\", hyearrange)\n",
    "pd_holiday = get_holidays(hyearrange)\n",
    "print(pd_holiday.head())\n",
    "holidayset = set([h for h in pd_holiday[\"name\"]])\n",
    "print(holidayset)"
   ]
  },
  {
   "cell_type": "code",
   "execution_count": null,
   "metadata": {},
   "outputs": [],
   "source": [
    "data_clean = data_clean_dict\n",
    "print(\"Brand:%s\"%brand)\n",
    "data_feature = features(data_clean)\n",
    "data_feature_holiday = data_feature[[\"Date\"]].copy()\n",
    "for h in holidayset:\n",
    "    print(\"holiday: %s\"%h)\n",
    "    data_feature_holiday[\"nday_away_\"+h] = \\\n",
    "    data_feature_holiday.apply(lambda row: ndays_from_holiday(pd_holiday, h, row[\"Date\"]), axis=1)  \n",
    "#print(data_feature_holiday.head())\n",
    "data_feature_holiday[\"nday_away_anyholiday\"] = \\\n",
    "data_feature_holiday[[\"nday_away_\"+h for h in holidayset]].max(axis=1)\n",
    "data_feature_update = pd.concat([data_feature, data_feature_holiday.drop([\"Date\"], axis=1)], axis=1)\n",
    "data_feature_update.drop([\"ndays_of_deal\"], axis=1, inplace=True)\n",
    "data_feature.dropna(inplace=True)\n",
    "fileoutname = input_filefolder+\"/\"+brand+\"_features.csv\"\n",
    "data_feature_update.to_csv(fileoutname)\n",
    "print(\"Saved:%s\\n\"%fileoutname)\n",
    "#print(data_feature_update.head())\n",
    "#print(len(data_feature_update.columns), data_feature_update.columns)"
   ]
  }
 ],
 "metadata": {
  "kernelspec": {
   "display_name": "Python 3",
   "language": "python",
   "name": "python3"
  },
  "language_info": {
   "codemirror_mode": {
    "name": "ipython",
    "version": 3
   },
   "file_extension": ".py",
   "mimetype": "text/x-python",
   "name": "python",
   "nbconvert_exporter": "python",
   "pygments_lexer": "ipython3",
   "version": "3.7.1"
  }
 },
 "nbformat": 4,
 "nbformat_minor": 2
}
